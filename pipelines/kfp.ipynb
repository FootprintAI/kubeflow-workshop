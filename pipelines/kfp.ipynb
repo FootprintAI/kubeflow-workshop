{
 "cells": [
  {
   "cell_type": "code",
   "execution_count": null,
   "id": "technological-strain",
   "metadata": {},
   "outputs": [],
   "source": [
    "### this example demonstrates how to use kfp python sdk to create pipeline / update its versions and trigger runs\n",
    "### to see full doc on how we can use python sdk, please refer to: \n",
    "### https://kubeflow-pipelines.readthedocs.io/en/stable/index.html"
   ]
  },
  {
   "cell_type": "code",
   "execution_count": null,
   "id": "protective-mitchell",
   "metadata": {},
   "outputs": [],
   "source": [
    "with open(\"requirements.txt\", \"w\") as f:\n",
    "    f.write(\"python-dateutil\\n\")\n",
    "    f.write(\"kubernetes\\n\")\n",
    "    f.write(\"kubeflow-fairing\\n\")\n",
    "    f.write(\"kfp==1.4.0\\n\")\n",
    "    \n",
    "!pip install -r requirements.txt  --upgrade --user"
   ]
  },
  {
   "cell_type": "code",
   "execution_count": 14,
   "id": "binary-evidence",
   "metadata": {},
   "outputs": [],
   "source": [
    "# as codes are executed on kernel of jupyter, a pod on kubernetes cluster\n",
    "# so it should use internal dns for looking up global entry from istio-system\n",
    "host = 'http://istio-ingressgateway.istio-system.svc.cluster.local:80/pipeline'\n",
    "namespace = 'kubeflow-user'\n",
    "\n",
    "### update your authservice_session everytime when you logged into kubeflow.\n",
    "### trigger your developer console and to go application tab, you can see cookies section.\n",
    "authservice_session = 'authservice_session=MTYxODM2ODYwMXxOd3dBTkVOUVRFNVVOa0pCUmpWRE4wazNURU15UTA0eldscExWRTFaU1ZOYVFWZEdSRlUwU1VwQ1ZUVkZVVVZFTjFwQ1ZqUlJWRkU9fFSCMXFfH2HQDF6qrk9rKvMoUTXhKwH1z0Ps_VZJODI8'"
   ]
  },
  {
   "cell_type": "code",
   "execution_count": 41,
   "id": "surface-system",
   "metadata": {},
   "outputs": [
    {
     "name": "stdout",
     "output_type": "stream",
     "text": [
      "{'experiments': [{'created_at': datetime.datetime(2021, 4, 6, 9, 7, 56, tzinfo=tzlocal()),\n",
      "                  'description': None,\n",
      "                  'id': '8bedfc1e-139c-497c-b4e6-513d46d75f5f',\n",
      "                  'name': 'test exp',\n",
      "                  'resource_references': [{'key': {'id': 'kubeflow-user',\n",
      "                                                   'type': 'NAMESPACE'},\n",
      "                                           'name': None,\n",
      "                                           'relationship': 'OWNER'}],\n",
      "                  'storage_state': 'STORAGESTATE_AVAILABLE'}],\n",
      " 'next_page_token': None,\n",
      " 'total_size': 1}\n"
     ]
    }
   ],
   "source": [
    "import kfp\n",
    "import json\n",
    "import logging\n",
    "\n",
    "client = kfp.Client(host=host, cookies=authservice_session)\n",
    "list_exps = client.list_experiments(namespace=namespace)\n",
    "print(list_exps)"
   ]
  },
  {
   "cell_type": "code",
   "execution_count": 42,
   "id": "infectious-kenya",
   "metadata": {},
   "outputs": [],
   "source": [
    "pipeline_template_path = \"helloworld.zip\"\n",
    "pipeline_name = \"helloworld\"\n",
    "pipeline_description = \"some descriptions...\""
   ]
  },
  {
   "cell_type": "code",
   "execution_count": 43,
   "id": "million-coating",
   "metadata": {},
   "outputs": [
    {
     "name": "stdout",
     "output_type": "stream",
     "text": [
      "{'created_at': datetime.datetime(2021, 4, 14, 4, 15, 34, tzinfo=tzlocal()),\n",
      " 'default_version': {'code_source_url': None,\n",
      "                     'created_at': datetime.datetime(2021, 4, 14, 4, 15, 34, tzinfo=tzlocal()),\n",
      "                     'id': 'e59bf39c-7da6-4831-be24-54952eddc934',\n",
      "                     'name': 'helloworld',\n",
      "                     'package_url': None,\n",
      "                     'parameters': [{'name': 'text1', 'value': 'message 1'},\n",
      "                                    {'name': 'text2', 'value': 'message 2'}],\n",
      "                     'resource_references': [{'key': {'id': 'e59bf39c-7da6-4831-be24-54952eddc934',\n",
      "                                                      'type': 'PIPELINE'},\n",
      "                                              'name': None,\n",
      "                                              'relationship': 'OWNER'}]},\n",
      " 'description': 'some descriptions...',\n",
      " 'error': None,\n",
      " 'id': 'e59bf39c-7da6-4831-be24-54952eddc934',\n",
      " 'name': 'helloworld',\n",
      " 'parameters': [{'name': 'text1', 'value': 'message 1'},\n",
      "                {'name': 'text2', 'value': 'message 2'}],\n",
      " 'url': None}\n"
     ]
    }
   ],
   "source": [
    "# create an pipeline with name/description/template local path\n",
    "\n",
    "upload_pipeline = client.pipeline_uploads.upload_pipeline(pipeline_template_path,\n",
    "    name=pipeline_name,\n",
    "    description=pipeline_description,\n",
    "    async_req=False,\n",
    ")\n",
    "print(upload_pipeline)"
   ]
  },
  {
   "cell_type": "code",
   "execution_count": 46,
   "id": "thirty-james",
   "metadata": {},
   "outputs": [
    {
     "name": "stdout",
     "output_type": "stream",
     "text": [
      "{'code_source_url': None,\n",
      " 'created_at': datetime.datetime(2021, 4, 14, 4, 17, 1, tzinfo=tzlocal()),\n",
      " 'id': '3d3ec59b-a31b-49f7-8e61-0edb3d359ef0',\n",
      " 'name': '14/04/2021 04:17:01',\n",
      " 'package_url': None,\n",
      " 'parameters': [{'name': 'text1', 'value': 'message 1'},\n",
      "                {'name': 'text2', 'value': 'message 2'}],\n",
      " 'resource_references': [{'key': {'id': 'e59bf39c-7da6-4831-be24-54952eddc934',\n",
      "                                  'type': 'PIPELINE'},\n",
      "                          'name': None,\n",
      "                          'relationship': 'OWNER'}]}\n"
     ]
    }
   ],
   "source": [
    "# update pipeline version\n",
    "pipeline_id=upload_pipeline.id\n",
    "\n",
    "import datetime\n",
    "timed_version = datetime.datetime.today().strftime(\"%d/%m/%Y %H:%M:%S\")\n",
    "\n",
    "upload_pipeline_version = client.pipeline_uploads.upload_pipeline_version(pipeline_template_path,\n",
    "    name=timed_version,\n",
    "    pipelineid=pipeline_id,\n",
    "    async_req=False,\n",
    ")\n",
    "print(upload_pipeline_version)"
   ]
  },
  {
   "cell_type": "code",
   "execution_count": 47,
   "id": "early-seven",
   "metadata": {},
   "outputs": [
    {
     "data": {
      "text/html": [
       "<a href=\"http://istio-ingressgateway.istio-system.svc.cluster.local:80/pipeline/#/runs/details/f022ba66-4d12-42eb-974a-140a60e8ac34\" target=\"_blank\" >Run details</a>."
      ],
      "text/plain": [
       "<IPython.core.display.HTML object>"
      ]
     },
     "metadata": {},
     "output_type": "display_data"
    },
    {
     "name": "stdout",
     "output_type": "stream",
     "text": [
      "{'created_at': datetime.datetime(2021, 4, 14, 4, 18, 9, tzinfo=tzlocal()),\n",
      " 'description': None,\n",
      " 'error': None,\n",
      " 'finished_at': datetime.datetime(1970, 1, 1, 0, 0, tzinfo=tzlocal()),\n",
      " 'id': 'f022ba66-4d12-42eb-974a-140a60e8ac34',\n",
      " 'metrics': None,\n",
      " 'name': 'run helloworld',\n",
      " 'pipeline_spec': {'parameters': None,\n",
      "                   'pipeline_id': 'e59bf39c-7da6-4831-be24-54952eddc934',\n",
      "                   'pipeline_manifest': None,\n",
      "                   'pipeline_name': 'helloworld',\n",
      "                   'workflow_manifest': '{\"kind\":\"Workflow\",\"apiVersion\":\"argoproj.io/v1alpha1\",\"metadata\":{\"generateName\":\"execution-order-pipeline-\",\"creationTimestamp\":null,\"labels\":{\"pipelines.kubeflow.org/kfp_sdk_version\":\"1.4.0\"},\"annotations\":{\"pipelines.kubeflow.org/kfp_sdk_version\":\"1.4.0\",\"pipelines.kubeflow.org/pipeline_compilation_time\":\"2021-04-13T07:02:18.905505\",\"pipelines.kubeflow.org/pipeline_spec\":\"{\\\\\"description\\\\\": '\n",
      "                                        '\\\\\"A pipeline to demonstrate '\n",
      "                                        'execution order management.\\\\\", '\n",
      "                                        '\\\\\"inputs\\\\\": [{\\\\\"default\\\\\": '\n",
      "                                        '\\\\\"message 1\\\\\", \\\\\"name\\\\\": '\n",
      "                                        '\\\\\"text1\\\\\", \\\\\"optional\\\\\": true}, '\n",
      "                                        '{\\\\\"default\\\\\": \\\\\"message 2\\\\\", '\n",
      "                                        '\\\\\"name\\\\\": \\\\\"text2\\\\\", '\n",
      "                                        '\\\\\"optional\\\\\": true}], \\\\\"name\\\\\": '\n",
      "                                        '\\\\\"Execution order '\n",
      "                                        'pipeline\\\\\"}\"}},\"spec\":{\"templates\":[{\"name\":\"echo1\",\"arguments\":{},\"inputs\":{\"parameters\":[{\"name\":\"text1\"}]},\"outputs\":{},\"metadata\":{},\"container\":{\"name\":\"\",\"image\":\"library/bash:4.4.23\",\"command\":[\"sh\",\"-c\"],\"args\":[\"echo '\n",
      "                                        '\\\\\"$0\\\\\"\",\"{{inputs.parameters.text1}}\"],\"resources\":{}}},{\"name\":\"echo2\",\"arguments\":{},\"inputs\":{\"parameters\":[{\"name\":\"text2\"}]},\"outputs\":{},\"metadata\":{},\"container\":{\"name\":\"\",\"image\":\"library/bash:4.4.23\",\"command\":[\"sh\",\"-c\"],\"args\":[\"echo '\n",
      "                                        '\\\\\"$0\\\\\"\",\"{{inputs.parameters.text2}}\"],\"resources\":{}}},{\"name\":\"execution-order-pipeline\",\"arguments\":{},\"inputs\":{\"parameters\":[{\"name\":\"text1\"},{\"name\":\"text2\"}]},\"outputs\":{},\"metadata\":{},\"dag\":{\"tasks\":[{\"name\":\"echo1\",\"template\":\"echo1\",\"arguments\":{\"parameters\":[{\"name\":\"text1\",\"value\":\"{{inputs.parameters.text1}}\"}]}},{\"name\":\"echo2\",\"template\":\"echo2\",\"arguments\":{\"parameters\":[{\"name\":\"text2\",\"value\":\"{{inputs.parameters.text2}}\"}]},\"dependencies\":[\"echo1\"]}]}}],\"entrypoint\":\"execution-order-pipeline\",\"arguments\":{\"parameters\":[{\"name\":\"text1\",\"value\":\"message '\n",
      "                                        '1\"},{\"name\":\"text2\",\"value\":\"message '\n",
      "                                        '2\"}]},\"serviceAccountName\":\"pipeline-runner\"},\"status\":{\"startedAt\":null,\"finishedAt\":null}}'},\n",
      " 'resource_references': [{'key': {'id': '8bedfc1e-139c-497c-b4e6-513d46d75f5f',\n",
      "                                  'type': 'EXPERIMENT'},\n",
      "                          'name': 'test exp',\n",
      "                          'relationship': 'OWNER'},\n",
      "                         {'key': {'id': '3d3ec59b-a31b-49f7-8e61-0edb3d359ef0',\n",
      "                                  'type': 'PIPELINE_VERSION'},\n",
      "                          'name': '14/04/2021 04:17:01',\n",
      "                          'relationship': 'CREATOR'}],\n",
      " 'scheduled_at': datetime.datetime(1970, 1, 1, 0, 0, tzinfo=tzlocal()),\n",
      " 'service_account': 'default-editor',\n",
      " 'status': None,\n",
      " 'storage_state': None}\n"
     ]
    }
   ],
   "source": [
    "### trigger run on a specific pipeline\n",
    "experimentid=list_exps.experiments[0].id\n",
    "versionid=upload_pipeline_version.id\n",
    "job_name = \"run helloworld\"\n",
    "\n",
    "run_resp = client.run_pipeline(\n",
    "    experimentid,\n",
    "    job_name,\n",
    "    pipeline_id=pipeline_id,\n",
    "    version_id=versionid,\n",
    ")\n",
    "print(run_resp)"
   ]
  },
  {
   "cell_type": "code",
   "execution_count": null,
   "id": "starting-apollo",
   "metadata": {},
   "outputs": [],
   "source": []
  }
 ],
 "metadata": {
  "kernelspec": {
   "display_name": "Python 3",
   "language": "python",
   "name": "python3"
  },
  "language_info": {
   "codemirror_mode": {
    "name": "ipython",
    "version": 3
   },
   "file_extension": ".py",
   "mimetype": "text/x-python",
   "name": "python",
   "nbconvert_exporter": "python",
   "pygments_lexer": "ipython3",
   "version": "3.8.8"
  }
 },
 "nbformat": 4,
 "nbformat_minor": 5
}
