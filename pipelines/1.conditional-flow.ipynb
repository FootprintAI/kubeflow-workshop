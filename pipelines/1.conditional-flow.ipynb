{
 "cells": [
  {
   "cell_type": "code",
   "execution_count": null,
   "id": "5d7223dc",
   "metadata": {},
   "outputs": [],
   "source": [
    "with open(\"requirements.txt\", \"w\") as f:\n",
    "    f.write(\"kfp==1.8.9\\n\")\n",
    "    \n",
    "!pip install -r requirements.txt  --upgrade --user"
   ]
  },
  {
   "cell_type": "code",
   "execution_count": 1,
   "id": "6ca55f66",
   "metadata": {},
   "outputs": [],
   "source": [
    "import kfp\n",
    "from kfp import dsl\n",
    "from kfp.components import func_to_container_op, InputPath, OutputPath\n",
    "\n",
    "  \n",
    "@func_to_container_op\n",
    "def get_random_int_op(minimum: int, maximum: int) -> int:\n",
    "   \"\"\"Generate a random number between minimum and maximum (inclusive).\"\"\"\n",
    "   import random\n",
    "   result = random.randint(minimum, maximum)\n",
    "   print(result)\n",
    "   return result\n",
    "\n",
    "@func_to_container_op\n",
    "def flip_coin_op() -> str:\n",
    "    \"\"\"Flip a coin and output heads or tails randomly.\"\"\"\n",
    "    import random\n",
    "    result = random.choice(['heads', 'tails'])\n",
    "    print(result)\n",
    "    return result\n",
    "\n",
    "\n",
    "@func_to_container_op\n",
    "def print_op(message: str):\n",
    "    \"\"\"Print a message.\"\"\"\n",
    "    print(message)\n",
    "\n",
    "@func_to_container_op\n",
    "def fail_op(message):\n",
    "    \"\"\"Fails.\"\"\"\n",
    "    import sys\n",
    "    print(message)    \n",
    "    sys.exit(1)\n",
    "\n",
    "def add_resource_constraints(op: dsl.ContainerOp):\n",
    "    return op.set_cpu_request(\"100m\").set_cpu_limit(\"100m\")        \n",
    "    \n",
    "    \n",
    "@dsl.pipeline(\n",
    "    name='Conditional execution pipeline with exit handler',\n",
    "    description='Shows how to use dsl.Condition() and dsl.ExitHandler().'\n",
    ")\n",
    "def flipcoin_exit_pipeline():\n",
    "    exit_task = add_resource_constraints(print_op('Exit handler has worked!'))\n",
    "    with dsl.ExitHandler(exit_task):\n",
    "        flip = add_resource_constraints(flip_coin_op())\n",
    "        # to disable run cache, use:\n",
    "        #flip.execution_options.caching_strategy.max_cache_staleness = \"P0D\"\n",
    "        \n",
    "        with dsl.Condition(flip.output == 'heads'):\n",
    "            random_num_head = add_resource_constraints(get_random_int_op(0, 9))\n",
    "            with dsl.Condition(random_num_head.output > 5):\n",
    "                add_resource_constraints(print_op('heads and %s > 5!' % random_num_head.output))\n",
    "            with dsl.Condition(random_num_head.output <= 5):\n",
    "                add_resource_constraints(print_op('heads and %s <= 5!' % random_num_head.output))\n",
    "\n",
    "        with dsl.Condition(flip.output == 'tails'):\n",
    "            random_num_tail = add_resource_constraints(get_random_int_op(10, 19))\n",
    "            with dsl.Condition(random_num_tail.output > 15):\n",
    "                add_resource_constraints(print_op('tails and %s > 15!' % random_num_tail.output))\n",
    "            with dsl.Condition(random_num_tail.output <= 15):\n",
    "                add_resource_constraints(print_op('tails and %s <= 15!' % random_num_tail.output))\n",
    "\n",
    "        with dsl.Condition(flip.output == 'tails'):\n",
    "            add_resource_constraints(fail_op(message=\"Failing the run to demonstrate that exit handler still gets executed.\"))\n",
    "\n",
    "    "
   ]
  },
  {
   "cell_type": "code",
   "execution_count": 2,
   "id": "2ad4077a",
   "metadata": {},
   "outputs": [],
   "source": [
    "# generate workflow artifacts in .zip format\n",
    "kfp.compiler.Compiler().compile(flipcoin_exit_pipeline, 'helloworld-1.zip')"
   ]
  },
  {
   "cell_type": "code",
   "execution_count": null,
   "id": "668d032a",
   "metadata": {},
   "outputs": [],
   "source": []
  }
 ],
 "metadata": {
  "kernelspec": {
   "display_name": "Python 3 (ipykernel)",
   "language": "python",
   "name": "python3"
  },
  "language_info": {
   "codemirror_mode": {
    "name": "ipython",
    "version": 3
   },
   "file_extension": ".py",
   "mimetype": "text/x-python",
   "name": "python",
   "nbconvert_exporter": "python",
   "pygments_lexer": "ipython3",
   "version": "3.8.10"
  }
 },
 "nbformat": 4,
 "nbformat_minor": 5
}
