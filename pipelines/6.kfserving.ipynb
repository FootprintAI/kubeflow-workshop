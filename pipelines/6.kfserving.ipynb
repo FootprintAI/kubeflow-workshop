{
 "cells": [
  {
   "cell_type": "code",
   "execution_count": 7,
   "id": "f38a03e0",
   "metadata": {},
   "outputs": [
    {
     "name": "stdout",
     "output_type": "stream",
     "text": [
      "Requirement already satisfied: kubernetes>=12.0.0 in /home/jovyan/.local/lib/python3.8/site-packages (from -r requirements.txt (line 1)) (12.0.1)\n",
      "Collecting kubernetes>=12.0.0\n",
      "  Using cached kubernetes-18.20.0-py2.py3-none-any.whl (1.6 MB)\n",
      "Requirement already satisfied: kfp==1.8.0 in /home/jovyan/.local/lib/python3.8/site-packages (from -r requirements.txt (line 2)) (1.8.0)\n",
      "Requirement already satisfied: requests in /opt/conda/lib/python3.8/site-packages (from -r requirements.txt (line 3)) (2.25.1)\n",
      "Collecting requests\n",
      "  Downloading requests-2.26.0-py2.py3-none-any.whl (62 kB)\n",
      "\u001b[K     |████████████████████████████████| 62 kB 888 kB/s eta 0:00:011\n",
      "\u001b[?25hRequirement already satisfied: google-api-python-client<2,>=1.7.8 in /opt/conda/lib/python3.8/site-packages (from kfp==1.8.0->-r requirements.txt (line 2)) (1.12.8)\n",
      "Requirement already satisfied: requests-toolbelt<1,>=0.8.0 in /opt/conda/lib/python3.8/site-packages (from kfp==1.8.0->-r requirements.txt (line 2)) (0.9.1)\n",
      "Requirement already satisfied: docstring-parser<1,>=0.7.3 in /opt/conda/lib/python3.8/site-packages (from kfp==1.8.0->-r requirements.txt (line 2)) (0.8.1)\n",
      "Requirement already satisfied: tabulate<1,>=0.8.6 in /opt/conda/lib/python3.8/site-packages (from kfp==1.8.0->-r requirements.txt (line 2)) (0.8.9)\n",
      "Requirement already satisfied: jsonschema<4,>=3.0.1 in /opt/conda/lib/python3.8/site-packages (from kfp==1.8.0->-r requirements.txt (line 2)) (3.2.0)\n",
      "Requirement already satisfied: click<8,>=7.1.1 in /opt/conda/lib/python3.8/site-packages (from kfp==1.8.0->-r requirements.txt (line 2)) (7.1.2)\n",
      "Requirement already satisfied: google-auth<2,>=1.6.1 in /opt/conda/lib/python3.8/site-packages (from kfp==1.8.0->-r requirements.txt (line 2)) (1.32.0)\n",
      "Requirement already satisfied: strip-hints<1,>=0.1.8 in /opt/conda/lib/python3.8/site-packages (from kfp==1.8.0->-r requirements.txt (line 2)) (0.1.9)\n",
      "Requirement already satisfied: kfp-server-api<2.0.0,>=1.1.2 in /opt/conda/lib/python3.8/site-packages (from kfp==1.8.0->-r requirements.txt (line 2)) (1.6.0)\n",
      "Requirement already satisfied: cloudpickle<2,>=1.3.0 in /opt/conda/lib/python3.8/site-packages (from kfp==1.8.0->-r requirements.txt (line 2)) (1.6.0)\n",
      "Requirement already satisfied: kfp-pipeline-spec<0.2.0,>=0.1.9 in /home/jovyan/.local/lib/python3.8/site-packages (from kfp==1.8.0->-r requirements.txt (line 2)) (0.1.10)\n",
      "Requirement already satisfied: pydantic<2,>=1.8.2 in /home/jovyan/.local/lib/python3.8/site-packages (from kfp==1.8.0->-r requirements.txt (line 2)) (1.8.2)\n",
      "Requirement already satisfied: fire<1,>=0.3.1 in /opt/conda/lib/python3.8/site-packages (from kfp==1.8.0->-r requirements.txt (line 2)) (0.4.0)\n",
      "Requirement already satisfied: google-cloud-storage<2,>=1.20.0 in /opt/conda/lib/python3.8/site-packages (from kfp==1.8.0->-r requirements.txt (line 2)) (1.39.0)\n",
      "Requirement already satisfied: PyYAML<6,>=5.3 in /opt/conda/lib/python3.8/site-packages (from kfp==1.8.0->-r requirements.txt (line 2)) (5.4.1)\n",
      "Requirement already satisfied: absl-py<=0.11,>=0.9 in /opt/conda/lib/python3.8/site-packages (from kfp==1.8.0->-r requirements.txt (line 2)) (0.11.0)\n",
      "Requirement already satisfied: Deprecated<2,>=1.2.7 in /opt/conda/lib/python3.8/site-packages (from kfp==1.8.0->-r requirements.txt (line 2)) (1.2.12)\n",
      "Requirement already satisfied: protobuf<4,>=3.13.0 in /opt/conda/lib/python3.8/site-packages (from kfp==1.8.0->-r requirements.txt (line 2)) (3.17.3)\n",
      "Requirement already satisfied: certifi>=14.05.14 in /opt/conda/lib/python3.8/site-packages (from kubernetes>=12.0.0->-r requirements.txt (line 1)) (2021.5.30)\n",
      "Requirement already satisfied: urllib3>=1.24.2 in /opt/conda/lib/python3.8/site-packages (from kubernetes>=12.0.0->-r requirements.txt (line 1)) (1.26.5)\n",
      "Requirement already satisfied: six>=1.9.0 in /opt/conda/lib/python3.8/site-packages (from kubernetes>=12.0.0->-r requirements.txt (line 1)) (1.16.0)\n",
      "Requirement already satisfied: requests-oauthlib in /opt/conda/lib/python3.8/site-packages (from kubernetes>=12.0.0->-r requirements.txt (line 1)) (1.3.0)\n",
      "Requirement already satisfied: setuptools>=21.0.0 in /opt/conda/lib/python3.8/site-packages (from kubernetes>=12.0.0->-r requirements.txt (line 1)) (49.6.0.post20210108)\n",
      "Requirement already satisfied: python-dateutil>=2.5.3 in /opt/conda/lib/python3.8/site-packages (from kubernetes>=12.0.0->-r requirements.txt (line 1)) (2.8.1)\n",
      "Requirement already satisfied: websocket-client!=0.40.0,!=0.41.*,!=0.42.*,>=0.32.0 in /opt/conda/lib/python3.8/site-packages (from kubernetes>=12.0.0->-r requirements.txt (line 1)) (1.0.1)\n",
      "Requirement already satisfied: wrapt<2,>=1.10 in /opt/conda/lib/python3.8/site-packages (from Deprecated<2,>=1.2.7->kfp==1.8.0->-r requirements.txt (line 2)) (1.12.1)\n",
      "Requirement already satisfied: termcolor in /opt/conda/lib/python3.8/site-packages (from fire<1,>=0.3.1->kfp==1.8.0->-r requirements.txt (line 2)) (1.1.0)\n",
      "Requirement already satisfied: uritemplate<4dev,>=3.0.0 in /opt/conda/lib/python3.8/site-packages (from google-api-python-client<2,>=1.7.8->kfp==1.8.0->-r requirements.txt (line 2)) (3.0.1)\n",
      "Requirement already satisfied: google-api-core<2dev,>=1.21.0 in /opt/conda/lib/python3.8/site-packages (from google-api-python-client<2,>=1.7.8->kfp==1.8.0->-r requirements.txt (line 2)) (1.30.0)\n",
      "Requirement already satisfied: httplib2<1dev,>=0.15.0 in /opt/conda/lib/python3.8/site-packages (from google-api-python-client<2,>=1.7.8->kfp==1.8.0->-r requirements.txt (line 2)) (0.19.1)\n",
      "Requirement already satisfied: google-auth-httplib2>=0.0.3 in /opt/conda/lib/python3.8/site-packages (from google-api-python-client<2,>=1.7.8->kfp==1.8.0->-r requirements.txt (line 2)) (0.1.0)\n",
      "Requirement already satisfied: googleapis-common-protos<2.0dev,>=1.6.0 in /opt/conda/lib/python3.8/site-packages (from google-api-core<2dev,>=1.21.0->google-api-python-client<2,>=1.7.8->kfp==1.8.0->-r requirements.txt (line 2)) (1.53.0)\n",
      "Requirement already satisfied: packaging>=14.3 in /opt/conda/lib/python3.8/site-packages (from google-api-core<2dev,>=1.21.0->google-api-python-client<2,>=1.7.8->kfp==1.8.0->-r requirements.txt (line 2)) (20.9)\n",
      "Requirement already satisfied: pytz in /opt/conda/lib/python3.8/site-packages (from google-api-core<2dev,>=1.21.0->google-api-python-client<2,>=1.7.8->kfp==1.8.0->-r requirements.txt (line 2)) (2021.1)\n",
      "Requirement already satisfied: idna<4,>=2.5 in /opt/conda/lib/python3.8/site-packages (from requests->-r requirements.txt (line 3)) (2.10)\n",
      "Collecting charset-normalizer~=2.0.0\n",
      "  Downloading charset_normalizer-2.0.4-py3-none-any.whl (36 kB)\n",
      "Requirement already satisfied: rsa<5,>=3.1.4 in /opt/conda/lib/python3.8/site-packages (from google-auth<2,>=1.6.1->kfp==1.8.0->-r requirements.txt (line 2)) (4.7.2)\n",
      "Requirement already satisfied: pyasn1-modules>=0.2.1 in /opt/conda/lib/python3.8/site-packages (from google-auth<2,>=1.6.1->kfp==1.8.0->-r requirements.txt (line 2)) (0.2.8)\n",
      "Requirement already satisfied: cachetools<5.0,>=2.0.0 in /opt/conda/lib/python3.8/site-packages (from google-auth<2,>=1.6.1->kfp==1.8.0->-r requirements.txt (line 2)) (4.2.2)\n",
      "Requirement already satisfied: google-cloud-core<2.0dev,>=1.4.1 in /opt/conda/lib/python3.8/site-packages (from google-cloud-storage<2,>=1.20.0->kfp==1.8.0->-r requirements.txt (line 2)) (1.7.0)\n",
      "Requirement already satisfied: google-resumable-media<2.0dev,>=1.3.0 in /opt/conda/lib/python3.8/site-packages (from google-cloud-storage<2,>=1.20.0->kfp==1.8.0->-r requirements.txt (line 2)) (1.3.1)\n",
      "Requirement already satisfied: google-crc32c<2.0dev,>=1.0 in /opt/conda/lib/python3.8/site-packages (from google-resumable-media<2.0dev,>=1.3.0->google-cloud-storage<2,>=1.20.0->kfp==1.8.0->-r requirements.txt (line 2)) (1.1.2)\n",
      "Requirement already satisfied: cffi>=1.0.0 in /opt/conda/lib/python3.8/site-packages (from google-crc32c<2.0dev,>=1.0->google-resumable-media<2.0dev,>=1.3.0->google-cloud-storage<2,>=1.20.0->kfp==1.8.0->-r requirements.txt (line 2)) (1.14.5)\n",
      "Requirement already satisfied: pycparser in /opt/conda/lib/python3.8/site-packages (from cffi>=1.0.0->google-crc32c<2.0dev,>=1.0->google-resumable-media<2.0dev,>=1.3.0->google-cloud-storage<2,>=1.20.0->kfp==1.8.0->-r requirements.txt (line 2)) (2.20)\n",
      "Requirement already satisfied: pyparsing<3,>=2.4.2 in /opt/conda/lib/python3.8/site-packages (from httplib2<1dev,>=0.15.0->google-api-python-client<2,>=1.7.8->kfp==1.8.0->-r requirements.txt (line 2)) (2.4.7)\n",
      "Requirement already satisfied: pyrsistent>=0.14.0 in /opt/conda/lib/python3.8/site-packages (from jsonschema<4,>=3.0.1->kfp==1.8.0->-r requirements.txt (line 2)) (0.17.3)\n",
      "Requirement already satisfied: attrs>=17.4.0 in /opt/conda/lib/python3.8/site-packages (from jsonschema<4,>=3.0.1->kfp==1.8.0->-r requirements.txt (line 2)) (21.2.0)\n",
      "Requirement already satisfied: pyasn1<0.5.0,>=0.4.6 in /opt/conda/lib/python3.8/site-packages (from pyasn1-modules>=0.2.1->google-auth<2,>=1.6.1->kfp==1.8.0->-r requirements.txt (line 2)) (0.4.8)\n",
      "Requirement already satisfied: typing-extensions>=3.7.4.3 in /opt/conda/lib/python3.8/site-packages (from pydantic<2,>=1.8.2->kfp==1.8.0->-r requirements.txt (line 2)) (3.10.0.0)\n",
      "Requirement already satisfied: wheel in /opt/conda/lib/python3.8/site-packages (from strip-hints<1,>=0.1.8->kfp==1.8.0->-r requirements.txt (line 2)) (0.36.2)\n",
      "Requirement already satisfied: oauthlib>=3.0.0 in /opt/conda/lib/python3.8/site-packages (from requests-oauthlib->kubernetes>=12.0.0->-r requirements.txt (line 1)) (3.1.1)\n",
      "Installing collected packages: charset-normalizer, requests\n",
      "\u001b[33m  WARNING: The script normalizer is installed in '/home/jovyan/.local/bin' which is not on PATH.\n",
      "  Consider adding this directory to PATH or, if you prefer to suppress this warning, use --no-warn-script-location.\u001b[0m\n",
      "Successfully installed charset-normalizer-2.0.4 requests-2.26.0\n"
     ]
    }
   ],
   "source": [
    "with open(\"requirements.txt\", \"w\") as f:\n",
    "    f.write(\"kubernetes>=12.0.0\\n\")\n",
    "    f.write(\"kfp==1.8.0\\n\")\n",
    "    f.write(\"requests\\n\")\n",
    "    \n",
    "!pip install -r requirements.txt  --upgrade --user"
   ]
  },
  {
   "cell_type": "code",
   "execution_count": 5,
   "id": "fca2fa81",
   "metadata": {},
   "outputs": [],
   "source": [
    "import kfp.dsl as dsl\n",
    "import kfp\n",
    "from kfp import components\n",
    "\n",
    "kfserving_op = components.load_component_from_url('https://raw.githubusercontent.com/kubeflow/pipelines/master/components/kubeflow/kfserving/component.yaml')\n",
    "\n",
    "@dsl.pipeline(\n",
    "  name='KFServing pipeline',\n",
    "  description='A pipeline for KFServing.'\n",
    ")\n",
    "def kfservingPipeline(\n",
    "    action='apply',\n",
    "    model_name='tensorflow-sample',\n",
    "    model_uri='gs://kfserving-samples/models/tensorflow/flowers',\n",
    "    namespace='kubeflow-user-example-com',\n",
    "    framework='tensorflow'):\n",
    "\n",
    "    kfserving = kfserving_op(action = action,\n",
    "                             model_name=model_name,\n",
    "                             model_uri=model_uri,\n",
    "                             namespace=namespace,\n",
    "                             framework=framework).set_image_pull_policy('Always')\n",
    "\n"
   ]
  },
  {
   "cell_type": "code",
   "execution_count": 6,
   "id": "0006e6bb",
   "metadata": {},
   "outputs": [],
   "source": [
    "# Compile pipeline\n",
    "kfp.compiler.Compiler().compile(kfservingPipeline, 'tf-flower.zip')"
   ]
  },
  {
   "cell_type": "markdown",
   "id": "117e33fc-7957-4443-bf11-fe1a4b98ea45",
   "metadata": {},
   "source": [
    "##### this is fixed in v1.3.1, so you are no longer to take actions\n",
    "~note: please disable sidecar-injection on kubeflow-user namespace,\n",
    "as knative-serving / knative-events are not enabled istio sidecar.\n",
    "failed to disable could get RBAC error~\n",
    "\n",
    "\n",
    "##### you have to REPLACE authervice_session token into yours. Go to Browser -> Developer Console -> Application -> Cookies\n",
    "![title](img/cookies.png)"
   ]
  },
  {
   "cell_type": "code",
   "execution_count": 28,
   "id": "edb6680d-9d8a-4327-8c6f-f903efae948f",
   "metadata": {},
   "outputs": [
    {
     "name": "stdout",
     "output_type": "stream",
     "text": [
      "{\n",
      "    \"predictions\": [\n",
      "        {\n",
      "            \"scores\": [2.00651739e-05, 1.30275157e-05, 1.49190305e-06, 0.99996531, 1.13776073e-08, 1.72391111e-07],\n",
      "            \"prediction\": 3,\n",
      "            \"key\": \"1\"\n",
      "        }\n",
      "    ]\n",
      "}\n"
     ]
    }
   ],
   "source": [
    "## the following example use python's request to send restapi requests\n",
    "import base64\n",
    "import json\n",
    "import requests\n",
    "\n",
    "with open('testdata.jpg', 'rb') as f:\n",
    "    image_content = f.read()\n",
    "    image_64_encode = base64.encodebytes(image_content).decode('utf-8')\n",
    "headers = {\"Cookie\": \"authservice_session=MTYzMDg5MjU5NnxOd3dBTkZKS1RWRk1VRkZGVHpWQk5Fa3pNMHhPTXpkV1draFVSMWN6U3pKVFFrVlJUMU5DU0ZoR1JGcFZXVFZaUmxnMFF6Tk9TVUU9fId9HVT3LD8wbAnYPmQ7v2k1-yLfGzNMBbAxKkcWh48-\",\n",
    "          \"Host\": \"tensorflow-sample.kubeflow-user-example-com.example.com\"}\n",
    "payload = {\"instances\":[{\"image_bytes\": {\"b64\": image_64_encode}, \"key\": \"1\"}]}\n",
    "resp = requests.post('http://istio-ingressgateway.istio-system/v1/models/tensorflow-sample:predict', headers=headers, data=json.dumps(payload))\n",
    "print(resp.text)"
   ]
  },
  {
   "cell_type": "code",
   "execution_count": 10,
   "id": "c2c1adb6",
   "metadata": {},
   "outputs": [
    {
     "name": "stdout",
     "output_type": "stream",
     "text": [
      "Note: Unnecessary use of -X or --request, POST is already inferred.\n",
      "*   Trying 10.108.129.129:80...\n",
      "* TCP_NODELAY set\n",
      "* Connected to istio-ingressgateway.istio-system (10.108.129.129) port 80 (#0)\n",
      "> POST /v1/models/tensorflow-sample:predict HTTP/1.1\n",
      "> Host: tensorflow-sample.kubeflow-user-example-com.example.com\n",
      "> User-Agent: curl/7.68.0\n",
      "> Accept: */*\n",
      "> Cookie: authservice_session=MTYzMDg5MjU5NnxOd3dBTkZKS1RWRk1VRkZGVHpWQk5Fa3pNMHhPTXpkV1draFVSMWN6U3pKVFFrVlJUMU5DU0ZoR1JGcFZXVFZaUmxnMFF6Tk9TVUU9fId9HVT3LD8wbAnYPmQ7v2k1-yLfGzNMBbAxKkcWh48-\n",
      "> Content-Length: 97252\n",
      "> Content-Type: application/x-www-form-urlencoded\n",
      "> Expect: 100-continue\n",
      "> \n",
      "* Mark bundle as not supporting multiuse\n",
      "< HTTP/1.1 100 Continue\n",
      "* We are completely uploaded and fine\n",
      "* Mark bundle as not supporting multiuse\n",
      "< HTTP/1.1 200 OK\n",
      "< content-length: 218\n",
      "< content-type: application/json\n",
      "< date: Mon, 06 Sep 2021 02:08:12 GMT\n",
      "< server: envoy\n",
      "< x-envoy-upstream-service-time: 1635\n",
      "< \n",
      "{\n",
      "    \"predictions\": [\n",
      "        {\n",
      "            \"prediction\": 3,\n",
      "            \"key\": \"1\",\n",
      "            \"scores\": [2.00651739e-05, 1.30275157e-05, 1.49190305e-06, 0.99996531, 1.13776073e-08, 1.72391111e-07]\n",
      "        }\n",
      "    ]\n",
      "* Connection #0 to host istio-ingressgateway.istio-system left intact\n",
      "}"
     ]
    }
   ],
   "source": [
    "## the following example use curl to send restapi requests\n",
    "\n",
    "!(echo -n '{\"instances\":[{\"image_bytes\": {\"b64\": \"'; base64 testdata.jpg; echo '\"}, \"key\": \"1\"}]}') | \\\n",
    "curl -XPOST -vvv -H \"Host: tensorflow-sample.kubeflow-user-example-com.example.com\" \\\n",
    "-H \"Cookie: authservice_session=MTYzMDg5MjU5NnxOd3dBTkZKS1RWRk1VRkZGVHpWQk5Fa3pNMHhPTXpkV1draFVSMWN6U3pKVFFrVlJUMU5DU0ZoR1JGcFZXVFZaUmxnMFF6Tk9TVUU9fId9HVT3LD8wbAnYPmQ7v2k1-yLfGzNMBbAxKkcWh48-\" \\\n",
    "-d @- \\\n",
    "http://istio-ingressgateway.istio-system/v1/models/tensorflow-sample:predict"
   ]
  },
  {
   "cell_type": "code",
   "execution_count": null,
   "id": "60ebbb26",
   "metadata": {},
   "outputs": [],
   "source": []
  }
 ],
 "metadata": {
  "kernelspec": {
   "display_name": "Python 3",
   "language": "python",
   "name": "python3"
  },
  "language_info": {
   "codemirror_mode": {
    "name": "ipython",
    "version": 3
   },
   "file_extension": ".py",
   "mimetype": "text/x-python",
   "name": "python",
   "nbconvert_exporter": "python",
   "pygments_lexer": "ipython3",
   "version": "3.8.10"
  }
 },
 "nbformat": 4,
 "nbformat_minor": 5
}
