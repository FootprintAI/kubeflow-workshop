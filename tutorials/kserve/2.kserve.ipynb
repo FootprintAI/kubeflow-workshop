{
 "cells": [
  {
   "cell_type": "code",
   "execution_count": 1,
   "id": "f38a03e0",
   "metadata": {},
   "outputs": [
    {
     "name": "stdout",
     "output_type": "stream",
     "text": [
      "Requirement already satisfied: kubernetes>=12.0.0 in /home/jovyan/.local/lib/python3.8/site-packages (from -r requirements.txt (line 1)) (18.20.0)\n",
      "Collecting kubernetes>=12.0.0\n",
      "  Using cached kubernetes-27.2.0-py2.py3-none-any.whl (1.5 MB)\n",
      "Requirement already satisfied: kfp==1.8.9 in /home/jovyan/.local/lib/python3.8/site-packages (from -r requirements.txt (line 2)) (1.8.9)\n",
      "Requirement already satisfied: opencv-python-headless==4.5.3.56 in /home/jovyan/.local/lib/python3.8/site-packages (from -r requirements.txt (line 3)) (4.5.3.56)\n",
      "Requirement already satisfied: requests in /home/jovyan/.local/lib/python3.8/site-packages (from -r requirements.txt (line 4)) (2.31.0)\n",
      "Requirement already satisfied: protobuf<4,>=3.13.0 in /opt/conda/lib/python3.8/site-packages (from kfp==1.8.9->-r requirements.txt (line 2)) (3.17.3)\n",
      "Requirement already satisfied: typer<1.0,>=0.3.2 in /home/jovyan/.local/lib/python3.8/site-packages (from kfp==1.8.9->-r requirements.txt (line 2)) (0.9.0)\n",
      "Requirement already satisfied: kfp-pipeline-spec<0.2.0,>=0.1.13 in /opt/conda/lib/python3.8/site-packages (from kfp==1.8.9->-r requirements.txt (line 2)) (0.1.16)\n",
      "Requirement already satisfied: fire<1,>=0.3.1 in /opt/conda/lib/python3.8/site-packages (from kfp==1.8.9->-r requirements.txt (line 2)) (0.5.0)\n",
      "Requirement already satisfied: cloudpickle<3,>=2.0.0 in /home/jovyan/.local/lib/python3.8/site-packages (from kfp==1.8.9->-r requirements.txt (line 2)) (2.2.1)\n",
      "Requirement already satisfied: uritemplate<4,>=3.0.1 in /opt/conda/lib/python3.8/site-packages (from kfp==1.8.9->-r requirements.txt (line 2)) (3.0.1)\n",
      "Requirement already satisfied: kfp-server-api<2.0.0,>=1.1.2 in /opt/conda/lib/python3.8/site-packages (from kfp==1.8.9->-r requirements.txt (line 2)) (1.6.0)\n",
      "Requirement already satisfied: jsonschema<4,>=3.0.1 in /opt/conda/lib/python3.8/site-packages (from kfp==1.8.9->-r requirements.txt (line 2)) (3.2.0)\n",
      "Requirement already satisfied: pydantic<2,>=1.8.2 in /home/jovyan/.local/lib/python3.8/site-packages (from kfp==1.8.9->-r requirements.txt (line 2)) (1.9.2)\n",
      "Requirement already satisfied: strip-hints<1,>=0.1.8 in /opt/conda/lib/python3.8/site-packages (from kfp==1.8.9->-r requirements.txt (line 2)) (0.1.10)\n",
      "Requirement already satisfied: PyYAML<6,>=5.3 in /opt/conda/lib/python3.8/site-packages (from kfp==1.8.9->-r requirements.txt (line 2)) (5.4.1)\n",
      "Requirement already satisfied: google-cloud-storage<2,>=1.20.0 in /opt/conda/lib/python3.8/site-packages (from kfp==1.8.9->-r requirements.txt (line 2)) (1.44.0)\n",
      "Requirement already satisfied: google-api-python-client<2,>=1.7.8 in /opt/conda/lib/python3.8/site-packages (from kfp==1.8.9->-r requirements.txt (line 2)) (1.12.11)\n",
      "Requirement already satisfied: typing-extensions<4,>=3.7.4 in /home/jovyan/.local/lib/python3.8/site-packages (from kfp==1.8.9->-r requirements.txt (line 2)) (3.10.0.2)\n",
      "Requirement already satisfied: tabulate<1,>=0.8.6 in /opt/conda/lib/python3.8/site-packages (from kfp==1.8.9->-r requirements.txt (line 2)) (0.9.0)\n",
      "Requirement already satisfied: docstring-parser<1,>=0.7.3 in /opt/conda/lib/python3.8/site-packages (from kfp==1.8.9->-r requirements.txt (line 2)) (0.15)\n",
      "Requirement already satisfied: absl-py<=0.11,>=0.9 in /opt/conda/lib/python3.8/site-packages (from kfp==1.8.9->-r requirements.txt (line 2)) (0.11.0)\n",
      "Requirement already satisfied: requests-toolbelt<1,>=0.8.0 in /opt/conda/lib/python3.8/site-packages (from kfp==1.8.9->-r requirements.txt (line 2)) (0.10.1)\n",
      "Requirement already satisfied: click<9,>=7.1.2 in /opt/conda/lib/python3.8/site-packages (from kfp==1.8.9->-r requirements.txt (line 2)) (7.1.2)\n",
      "Requirement already satisfied: google-auth<2,>=1.6.1 in /opt/conda/lib/python3.8/site-packages (from kfp==1.8.9->-r requirements.txt (line 2)) (1.35.0)\n",
      "Requirement already satisfied: Deprecated<2,>=1.2.7 in /opt/conda/lib/python3.8/site-packages (from kfp==1.8.9->-r requirements.txt (line 2)) (1.2.13)\n",
      "Requirement already satisfied: numpy>=1.17.3 in /opt/conda/lib/python3.8/site-packages (from opencv-python-headless==4.5.3.56->-r requirements.txt (line 3)) (1.22.4)\n",
      "Requirement already satisfied: websocket-client!=0.40.0,!=0.41.*,!=0.42.*,>=0.32.0 in /opt/conda/lib/python3.8/site-packages (from kubernetes>=12.0.0->-r requirements.txt (line 1)) (1.5.1)\n",
      "Requirement already satisfied: python-dateutil>=2.5.3 in /opt/conda/lib/python3.8/site-packages (from kubernetes>=12.0.0->-r requirements.txt (line 1)) (2.8.2)\n",
      "Requirement already satisfied: setuptools>=21.0.0 in /opt/conda/lib/python3.8/site-packages (from kubernetes>=12.0.0->-r requirements.txt (line 1)) (67.6.0)\n",
      "Requirement already satisfied: urllib3>=1.24.2 in /opt/conda/lib/python3.8/site-packages (from kubernetes>=12.0.0->-r requirements.txt (line 1)) (1.26.15)\n",
      "Requirement already satisfied: requests-oauthlib in /opt/conda/lib/python3.8/site-packages (from kubernetes>=12.0.0->-r requirements.txt (line 1)) (1.3.1)\n",
      "Requirement already satisfied: six>=1.9.0 in /opt/conda/lib/python3.8/site-packages (from kubernetes>=12.0.0->-r requirements.txt (line 1)) (1.16.0)\n",
      "Requirement already satisfied: certifi>=14.05.14 in /opt/conda/lib/python3.8/site-packages (from kubernetes>=12.0.0->-r requirements.txt (line 1)) (2022.12.7)\n",
      "Requirement already satisfied: charset-normalizer<4,>=2 in /opt/conda/lib/python3.8/site-packages (from requests->-r requirements.txt (line 4)) (2.1.1)\n",
      "Requirement already satisfied: idna<4,>=2.5 in /opt/conda/lib/python3.8/site-packages (from requests->-r requirements.txt (line 4)) (3.4)\n",
      "Requirement already satisfied: wrapt<2,>=1.10 in /opt/conda/lib/python3.8/site-packages (from Deprecated<2,>=1.2.7->kfp==1.8.9->-r requirements.txt (line 2)) (1.15.0)\n",
      "Requirement already satisfied: termcolor in /opt/conda/lib/python3.8/site-packages (from fire<1,>=0.3.1->kfp==1.8.9->-r requirements.txt (line 2)) (2.2.0)\n",
      "Requirement already satisfied: google-auth-httplib2>=0.0.3 in /opt/conda/lib/python3.8/site-packages (from google-api-python-client<2,>=1.7.8->kfp==1.8.9->-r requirements.txt (line 2)) (0.1.0)\n",
      "Requirement already satisfied: httplib2<1dev,>=0.15.0 in /opt/conda/lib/python3.8/site-packages (from google-api-python-client<2,>=1.7.8->kfp==1.8.9->-r requirements.txt (line 2)) (0.22.0)\n",
      "Requirement already satisfied: google-api-core<3dev,>=1.21.0 in /opt/conda/lib/python3.8/site-packages (from google-api-python-client<2,>=1.7.8->kfp==1.8.9->-r requirements.txt (line 2)) (2.8.2)\n",
      "Requirement already satisfied: cachetools<5.0,>=2.0.0 in /opt/conda/lib/python3.8/site-packages (from google-auth<2,>=1.6.1->kfp==1.8.9->-r requirements.txt (line 2)) (4.2.4)\n",
      "Requirement already satisfied: pyasn1-modules>=0.2.1 in /opt/conda/lib/python3.8/site-packages (from google-auth<2,>=1.6.1->kfp==1.8.9->-r requirements.txt (line 2)) (0.2.8)\n",
      "Requirement already satisfied: rsa<5,>=3.1.4 in /opt/conda/lib/python3.8/site-packages (from google-auth<2,>=1.6.1->kfp==1.8.9->-r requirements.txt (line 2)) (4.9)\n",
      "Requirement already satisfied: google-cloud-core<3.0dev,>=1.6.0 in /opt/conda/lib/python3.8/site-packages (from google-cloud-storage<2,>=1.20.0->kfp==1.8.9->-r requirements.txt (line 2)) (2.3.2)\n",
      "Requirement already satisfied: google-resumable-media<3.0dev,>=1.3.0 in /opt/conda/lib/python3.8/site-packages (from google-cloud-storage<2,>=1.20.0->kfp==1.8.9->-r requirements.txt (line 2)) (2.4.1)\n",
      "Requirement already satisfied: attrs>=17.4.0 in /opt/conda/lib/python3.8/site-packages (from jsonschema<4,>=3.0.1->kfp==1.8.9->-r requirements.txt (line 2)) (22.2.0)\n",
      "Requirement already satisfied: pyrsistent>=0.14.0 in /opt/conda/lib/python3.8/site-packages (from jsonschema<4,>=3.0.1->kfp==1.8.9->-r requirements.txt (line 2)) (0.19.3)\n",
      "Requirement already satisfied: wheel in /opt/conda/lib/python3.8/site-packages (from strip-hints<1,>=0.1.8->kfp==1.8.9->-r requirements.txt (line 2)) (0.40.0)\n",
      "Requirement already satisfied: oauthlib>=3.0.0 in /opt/conda/lib/python3.8/site-packages (from requests-oauthlib->kubernetes>=12.0.0->-r requirements.txt (line 1)) (3.2.2)\n",
      "Requirement already satisfied: googleapis-common-protos<2.0dev,>=1.56.2 in /opt/conda/lib/python3.8/site-packages (from google-api-core<3dev,>=1.21.0->google-api-python-client<2,>=1.7.8->kfp==1.8.9->-r requirements.txt (line 2)) (1.56.4)\n",
      "Requirement already satisfied: google-crc32c<2.0dev,>=1.0 in /opt/conda/lib/python3.8/site-packages (from google-resumable-media<3.0dev,>=1.3.0->google-cloud-storage<2,>=1.20.0->kfp==1.8.9->-r requirements.txt (line 2)) (1.5.0)\n",
      "Requirement already satisfied: pyparsing!=3.0.0,!=3.0.1,!=3.0.2,!=3.0.3,<4,>=2.4.2 in /opt/conda/lib/python3.8/site-packages (from httplib2<1dev,>=0.15.0->google-api-python-client<2,>=1.7.8->kfp==1.8.9->-r requirements.txt (line 2)) (3.0.9)\n",
      "Requirement already satisfied: pyasn1<0.5.0,>=0.4.6 in /opt/conda/lib/python3.8/site-packages (from pyasn1-modules>=0.2.1->google-auth<2,>=1.6.1->kfp==1.8.9->-r requirements.txt (line 2)) (0.4.8)\n"
     ]
    }
   ],
   "source": [
    "with open(\"requirements.txt\", \"w\") as f:\n",
    "    f.write(\"kubernetes>=12.0.0\\n\")\n",
    "    f.write(\"kfp==1.8.9\\n\")\n",
    "    f.write(\"opencv-python-headless==4.5.3.56\\n\")\n",
    "    f.write(\"requests\\n\")\n",
    "    \n",
    "!pip install -r requirements.txt  --upgrade --user"
   ]
  },
  {
   "cell_type": "code",
   "execution_count": 2,
   "id": "fca2fa81",
   "metadata": {},
   "outputs": [],
   "source": [
    "import kfp.dsl as dsl\n",
    "import kfp\n",
    "from kfp import components\n",
    "\n",
    "kfserving_op = kfserving_op = components.load_component_from_url('https://raw.githubusercontent.com/kubeflow/pipelines/master/components/kserve/component.yaml')\n",
    "\n",
    "\n",
    "def add_resource_constraints(op: dsl.ContainerOp):\n",
    "    return op.set_cpu_request(\"1\").set_cpu_limit(\"1\")    \n",
    "\n",
    "@dsl.pipeline(\n",
    "  name='KFServing pipeline',\n",
    "  description='A pipeline for KFServing with PVC.'\n",
    ")\n",
    "def kfservingPipeline(\n",
    "    action='apply',\n",
    "    namespace='kubeflow-user-example-com',\n",
    "    pvc_name='mnist-pipeline-l892p-newpvc',\n",
    "    model_name='model1'):\n",
    "    # mnist model was trained with 10 category, each category represents one single digit\n",
    "\n",
    "    # specify the model dir located on pvc\n",
    "    model_pvc_uri = 'pvc://{}/{}/'.format(pvc_name, model_name)\n",
    "    \n",
    "    # create inference service resource named by model_name\n",
    "    isvc_yaml = '''\n",
    "apiVersion: \"serving.kserve.io/v1beta1\"\n",
    "kind: \"InferenceService\"\n",
    "metadata:\n",
    "  name: {}\n",
    "  namespace: {}\n",
    "spec:\n",
    "  predictor:\n",
    "    tensorflow:\n",
    "      storageUri: {}\n",
    "      resources:\n",
    "        limits:\n",
    "          cpu: \"100m\"\n",
    "        requests:\n",
    "          cpu: \"100m\"\n",
    "'''.format(model_name, namespace, model_pvc_uri)\n",
    "    \n",
    "    # created kserve resource\n",
    "    kfserving = add_resource_constraints(kfserving_op(\n",
    "        action=action,\n",
    "        inferenceservice_yaml=isvc_yaml\n",
    "    ))"
   ]
  },
  {
   "cell_type": "code",
   "execution_count": 3,
   "id": "0006e6bb",
   "metadata": {},
   "outputs": [],
   "source": [
    "# Compile pipeline\n",
    "kfp.compiler.Compiler().compile(kfservingPipeline, 'mnist-kserve.zip')"
   ]
  },
  {
   "cell_type": "markdown",
   "id": "117e33fc-7957-4443-bf11-fe1a4b98ea45",
   "metadata": {},
   "source": [
    "##### you have to REPLACE authervice_session token into yours. Go to Browser -> Developer Console -> Application -> Cookies\n",
    "![title](../../pipelines/img/cookies.png)"
   ]
  },
  {
   "cell_type": "code",
   "execution_count": 4,
   "id": "edb6680d-9d8a-4327-8c6f-f903efae948f",
   "metadata": {},
   "outputs": [
    {
     "name": "stdout",
     "output_type": "stream",
     "text": [
      "<Response [200]>\n",
      "prediction: 5\n",
      "prediction: 6\n",
      "prediction: 2\n"
     ]
    }
   ],
   "source": [
    "## the following example use python's request to send restapi requests\n",
    "import json\n",
    "import requests\n",
    "import cv2\n",
    "import numpy as np\n",
    "\n",
    "# make http request against the model you deployed previously \n",
    "model_name = 'model1'\n",
    "auth = 'authservice_session={}'.format('MTY5MjczOTE1MXxOd3dBTkRaSVMxZFdURmRQVFV0WVMxcFZUa3RRVEVKQ1UwWTJVVUUwVEVSWlFrdFpXVkJYVEVGWFNVVlpSa0ZUUkRSR1FWTkRTRkU9fPDd8kh6QQBtM44Kfag_zIp4oqLf5Nj2OFki_RKiskBU')\n",
    "host = '{}.kubeflow-user-example-com.example.com'.format(model_name)\n",
    "predict_url = 'http://istio-ingressgateway.istio-system/v1/models/{}:predict'.format(model_name)\n",
    "classnames = ['0','1','2','3','4','5','6','7','8','9']\n",
    "\n",
    "orig = cv2.imread('5.png')\n",
    "resized = cv2.resize(orig, (28,28), interpolation = cv2.INTER_AREA)\n",
    "resized_arr = np.asarray(resized)/255.0\n",
    "headers = {'Cookie': auth, 'Host': host}\n",
    "payload={\"signature_name\": \"serving_default\", \"instances\": [resized_arr.tolist()]}\n",
    "resp = requests.post(predict_url, headers=headers, data=json.dumps(payload))\n",
    "print(resp)\n",
    "resp_json = json.loads(resp.content)\n",
    "for p in resp_json['predictions']:\n",
    "    print('prediction:', classnames[np.argmax(p)])"
   ]
  },
  {
   "cell_type": "code",
   "execution_count": null,
   "id": "402564fb-bb66-4af6-b279-0cde4ed3327e",
   "metadata": {},
   "outputs": [],
   "source": []
  }
 ],
 "metadata": {
  "kernelspec": {
   "display_name": "Python 3 (ipykernel)",
   "language": "python",
   "name": "python3"
  },
  "language_info": {
   "codemirror_mode": {
    "name": "ipython",
    "version": 3
   },
   "file_extension": ".py",
   "mimetype": "text/x-python",
   "name": "python",
   "nbconvert_exporter": "python",
   "pygments_lexer": "ipython3",
   "version": "3.8.10"
  }
 },
 "nbformat": 4,
 "nbformat_minor": 5
}
