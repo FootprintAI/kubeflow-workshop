{
 "cells": [
  {
   "cell_type": "code",
   "execution_count": 4,
   "id": "8b995f4c",
   "metadata": {},
   "outputs": [
    {
     "name": "stdout",
     "output_type": "stream",
     "text": [
      "Requirement already satisfied: kfp==1.8.9 in /home/jovyan/.local/lib/python3.8/site-packages (from -r requirements.txt (line 1)) (1.8.9)\n",
      "Requirement already satisfied: absl-py<=0.11,>=0.9 in /opt/conda/lib/python3.8/site-packages (from kfp==1.8.9->-r requirements.txt (line 1)) (0.11.0)\n",
      "Requirement already satisfied: jsonschema<4,>=3.0.1 in /opt/conda/lib/python3.8/site-packages (from kfp==1.8.9->-r requirements.txt (line 1)) (3.2.0)\n",
      "Requirement already satisfied: Deprecated<2,>=1.2.7 in /opt/conda/lib/python3.8/site-packages (from kfp==1.8.9->-r requirements.txt (line 1)) (1.2.13)\n",
      "Requirement already satisfied: docstring-parser<1,>=0.7.3 in /opt/conda/lib/python3.8/site-packages (from kfp==1.8.9->-r requirements.txt (line 1)) (0.11)\n",
      "Requirement already satisfied: PyYAML<6,>=5.3 in /opt/conda/lib/python3.8/site-packages (from kfp==1.8.9->-r requirements.txt (line 1)) (5.4.1)\n",
      "Requirement already satisfied: uritemplate<4,>=3.0.1 in /opt/conda/lib/python3.8/site-packages (from kfp==1.8.9->-r requirements.txt (line 1)) (3.0.1)\n",
      "Requirement already satisfied: google-auth<2,>=1.6.1 in /opt/conda/lib/python3.8/site-packages (from kfp==1.8.9->-r requirements.txt (line 1)) (1.31.0)\n",
      "Requirement already satisfied: typer<1.0,>=0.3.2 in /home/jovyan/.local/lib/python3.8/site-packages (from kfp==1.8.9->-r requirements.txt (line 1)) (0.4.0)\n",
      "Requirement already satisfied: strip-hints<1,>=0.1.8 in /opt/conda/lib/python3.8/site-packages (from kfp==1.8.9->-r requirements.txt (line 1)) (0.1.10)\n",
      "Requirement already satisfied: typing-extensions<4,>=3.7.4 in /opt/conda/lib/python3.8/site-packages (from kfp==1.8.9->-r requirements.txt (line 1)) (3.7.4.3)\n",
      "Requirement already satisfied: google-cloud-storage<2,>=1.20.0 in /opt/conda/lib/python3.8/site-packages (from kfp==1.8.9->-r requirements.txt (line 1)) (1.42.3)\n",
      "Requirement already satisfied: kfp-server-api<2.0.0,>=1.1.2 in /opt/conda/lib/python3.8/site-packages (from kfp==1.8.9->-r requirements.txt (line 1)) (1.6.0)\n",
      "Requirement already satisfied: cloudpickle<3,>=2.0.0 in /home/jovyan/.local/lib/python3.8/site-packages (from kfp==1.8.9->-r requirements.txt (line 1)) (2.0.0)\n",
      "Requirement already satisfied: kfp-pipeline-spec<0.2.0,>=0.1.13 in /home/jovyan/.local/lib/python3.8/site-packages (from kfp==1.8.9->-r requirements.txt (line 1)) (0.1.13)\n",
      "Requirement already satisfied: tabulate<1,>=0.8.6 in /opt/conda/lib/python3.8/site-packages (from kfp==1.8.9->-r requirements.txt (line 1)) (0.8.9)\n",
      "Requirement already satisfied: protobuf<4,>=3.13.0 in /opt/conda/lib/python3.8/site-packages (from kfp==1.8.9->-r requirements.txt (line 1)) (3.17.3)\n",
      "Requirement already satisfied: click<9,>=7.1.2 in /opt/conda/lib/python3.8/site-packages (from kfp==1.8.9->-r requirements.txt (line 1)) (7.1.2)\n",
      "Requirement already satisfied: fire<1,>=0.3.1 in /opt/conda/lib/python3.8/site-packages (from kfp==1.8.9->-r requirements.txt (line 1)) (0.4.0)\n",
      "Requirement already satisfied: pydantic<2,>=1.8.2 in /home/jovyan/.local/lib/python3.8/site-packages (from kfp==1.8.9->-r requirements.txt (line 1)) (1.9.0)\n",
      "Requirement already satisfied: google-api-python-client<2,>=1.7.8 in /opt/conda/lib/python3.8/site-packages (from kfp==1.8.9->-r requirements.txt (line 1)) (1.12.8)\n",
      "Requirement already satisfied: requests-toolbelt<1,>=0.8.0 in /opt/conda/lib/python3.8/site-packages (from kfp==1.8.9->-r requirements.txt (line 1)) (0.9.1)\n",
      "Requirement already satisfied: kubernetes<19,>=8.0.0 in /home/jovyan/.local/lib/python3.8/site-packages (from kfp==1.8.9->-r requirements.txt (line 1)) (18.20.0)\n",
      "Requirement already satisfied: six in /opt/conda/lib/python3.8/site-packages (from absl-py<=0.11,>=0.9->kfp==1.8.9->-r requirements.txt (line 1)) (1.15.0)\n",
      "Requirement already satisfied: wrapt<2,>=1.10 in /opt/conda/lib/python3.8/site-packages (from Deprecated<2,>=1.2.7->kfp==1.8.9->-r requirements.txt (line 1)) (1.12.1)\n",
      "Requirement already satisfied: termcolor in /opt/conda/lib/python3.8/site-packages (from fire<1,>=0.3.1->kfp==1.8.9->-r requirements.txt (line 1)) (1.1.0)\n",
      "Requirement already satisfied: google-auth-httplib2>=0.0.3 in /opt/conda/lib/python3.8/site-packages (from google-api-python-client<2,>=1.7.8->kfp==1.8.9->-r requirements.txt (line 1)) (0.1.0)\n",
      "Requirement already satisfied: google-api-core<2dev,>=1.21.0 in /opt/conda/lib/python3.8/site-packages (from google-api-python-client<2,>=1.7.8->kfp==1.8.9->-r requirements.txt (line 1)) (1.31.3)\n",
      "Requirement already satisfied: httplib2<1dev,>=0.15.0 in /opt/conda/lib/python3.8/site-packages (from google-api-python-client<2,>=1.7.8->kfp==1.8.9->-r requirements.txt (line 1)) (0.20.1)\n",
      "Requirement already satisfied: googleapis-common-protos<2.0dev,>=1.6.0 in /opt/conda/lib/python3.8/site-packages (from google-api-core<2dev,>=1.21.0->google-api-python-client<2,>=1.7.8->kfp==1.8.9->-r requirements.txt (line 1)) (1.53.0)\n",
      "Requirement already satisfied: packaging>=14.3 in /opt/conda/lib/python3.8/site-packages (from google-api-core<2dev,>=1.21.0->google-api-python-client<2,>=1.7.8->kfp==1.8.9->-r requirements.txt (line 1)) (20.9)\n",
      "Requirement already satisfied: pytz in /opt/conda/lib/python3.8/site-packages (from google-api-core<2dev,>=1.21.0->google-api-python-client<2,>=1.7.8->kfp==1.8.9->-r requirements.txt (line 1)) (2021.1)\n",
      "Requirement already satisfied: setuptools>=40.3.0 in /opt/conda/lib/python3.8/site-packages (from google-api-core<2dev,>=1.21.0->google-api-python-client<2,>=1.7.8->kfp==1.8.9->-r requirements.txt (line 1)) (49.6.0.post20210108)\n",
      "Requirement already satisfied: requests<3.0.0dev,>=2.18.0 in /home/jovyan/.local/lib/python3.8/site-packages (from google-api-core<2dev,>=1.21.0->google-api-python-client<2,>=1.7.8->kfp==1.8.9->-r requirements.txt (line 1)) (2.27.1)\n",
      "Requirement already satisfied: cachetools<5.0,>=2.0.0 in /opt/conda/lib/python3.8/site-packages (from google-auth<2,>=1.6.1->kfp==1.8.9->-r requirements.txt (line 1)) (4.2.2)\n",
      "Requirement already satisfied: rsa<5,>=3.1.4 in /opt/conda/lib/python3.8/site-packages (from google-auth<2,>=1.6.1->kfp==1.8.9->-r requirements.txt (line 1)) (4.7.2)\n",
      "Requirement already satisfied: pyasn1-modules>=0.2.1 in /opt/conda/lib/python3.8/site-packages (from google-auth<2,>=1.6.1->kfp==1.8.9->-r requirements.txt (line 1)) (0.2.8)\n",
      "Requirement already satisfied: google-resumable-media<3.0dev,>=1.3.0 in /opt/conda/lib/python3.8/site-packages (from google-cloud-storage<2,>=1.20.0->kfp==1.8.9->-r requirements.txt (line 1)) (2.0.3)\n",
      "Requirement already satisfied: google-cloud-core<3.0dev,>=1.6.0 in /opt/conda/lib/python3.8/site-packages (from google-cloud-storage<2,>=1.20.0->kfp==1.8.9->-r requirements.txt (line 1)) (2.1.0)\n",
      "Requirement already satisfied: google-crc32c<2.0dev,>=1.0 in /opt/conda/lib/python3.8/site-packages (from google-resumable-media<3.0dev,>=1.3.0->google-cloud-storage<2,>=1.20.0->kfp==1.8.9->-r requirements.txt (line 1)) (1.3.0)\n",
      "Requirement already satisfied: pyparsing<3,>=2.4.2 in /opt/conda/lib/python3.8/site-packages (from httplib2<1dev,>=0.15.0->google-api-python-client<2,>=1.7.8->kfp==1.8.9->-r requirements.txt (line 1)) (2.4.7)\n",
      "Requirement already satisfied: attrs>=17.4.0 in /opt/conda/lib/python3.8/site-packages (from jsonschema<4,>=3.0.1->kfp==1.8.9->-r requirements.txt (line 1)) (21.2.0)\n",
      "Requirement already satisfied: pyrsistent>=0.14.0 in /opt/conda/lib/python3.8/site-packages (from jsonschema<4,>=3.0.1->kfp==1.8.9->-r requirements.txt (line 1)) (0.17.3)\n",
      "Requirement already satisfied: python-dateutil in /opt/conda/lib/python3.8/site-packages (from kfp-server-api<2.0.0,>=1.1.2->kfp==1.8.9->-r requirements.txt (line 1)) (2.8.1)\n",
      "Requirement already satisfied: urllib3>=1.15 in /opt/conda/lib/python3.8/site-packages (from kfp-server-api<2.0.0,>=1.1.2->kfp==1.8.9->-r requirements.txt (line 1)) (1.26.5)\n",
      "Requirement already satisfied: certifi in /opt/conda/lib/python3.8/site-packages (from kfp-server-api<2.0.0,>=1.1.2->kfp==1.8.9->-r requirements.txt (line 1)) (2021.5.30)\n",
      "Requirement already satisfied: websocket-client!=0.40.0,!=0.41.*,!=0.42.*,>=0.32.0 in /opt/conda/lib/python3.8/site-packages (from kubernetes<19,>=8.0.0->kfp==1.8.9->-r requirements.txt (line 1)) (1.0.1)\n",
      "Requirement already satisfied: requests-oauthlib in /opt/conda/lib/python3.8/site-packages (from kubernetes<19,>=8.0.0->kfp==1.8.9->-r requirements.txt (line 1)) (1.3.0)\n",
      "Requirement already satisfied: pyasn1<0.5.0,>=0.4.6 in /opt/conda/lib/python3.8/site-packages (from pyasn1-modules>=0.2.1->google-auth<2,>=1.6.1->kfp==1.8.9->-r requirements.txt (line 1)) (0.4.8)\n",
      "Requirement already satisfied: charset-normalizer~=2.0.0 in /home/jovyan/.local/lib/python3.8/site-packages (from requests<3.0.0dev,>=2.18.0->google-api-core<2dev,>=1.21.0->google-api-python-client<2,>=1.7.8->kfp==1.8.9->-r requirements.txt (line 1)) (2.0.9)\n",
      "Requirement already satisfied: idna<4,>=2.5 in /opt/conda/lib/python3.8/site-packages (from requests<3.0.0dev,>=2.18.0->google-api-core<2dev,>=1.21.0->google-api-python-client<2,>=1.7.8->kfp==1.8.9->-r requirements.txt (line 1)) (2.10)\n",
      "Requirement already satisfied: wheel in /opt/conda/lib/python3.8/site-packages (from strip-hints<1,>=0.1.8->kfp==1.8.9->-r requirements.txt (line 1)) (0.36.2)\n",
      "Requirement already satisfied: oauthlib>=3.0.0 in /opt/conda/lib/python3.8/site-packages (from requests-oauthlib->kubernetes<19,>=8.0.0->kfp==1.8.9->-r requirements.txt (line 1)) (3.1.1)\n"
     ]
    }
   ],
   "source": [
    "with open(\"requirements.txt\", \"w\") as f:\n",
    "    f.write(\"kfp==1.8.9\\n\")\n",
    "    \n",
    "!pip install -r requirements.txt  --upgrade --user"
   ]
  },
  {
   "cell_type": "code",
   "execution_count": 5,
   "id": "90cc84c1-9b0f-4e1c-b7f1-03c69762e578",
   "metadata": {},
   "outputs": [
    {
     "name": "stdout",
     "output_type": "stream",
     "text": [
      "Downloading data from https://storage.googleapis.com/tensorflow/tf-keras-datasets/mnist.npz\n",
      "11493376/11490434 [==============================] - 0s 0us/step\n"
     ]
    },
    {
     "data": {
      "image/png": "[encoded data removed]",
      "text/plain": [
       "<Figure size 648x648 with 9 Axes>"
      ]
     },
     "metadata": {
      "needs_background": "light"
     },
     "output_type": "display_data"
    }
   ],
   "source": [
    "# ## uncomment the below code to visualize the x_train/y_train data\n",
    "\n",
    "import tensorflow as tf\n",
    "import json\n",
    "import matplotlib.pyplot as plt\n",
    "import random \n",
    "mnist = tf.keras.datasets.mnist\n",
    "(x_train,y_train), (x_test, y_test) = mnist.load_data()\n",
    "x_train, x_test = x_train/255.0, x_test/255.0\n",
    "    \n",
    "plt.rcParams['figure.figsize'] = (9,9) # Make the figures a bit bigger\n",
    "\n",
    "for i in range(9):\n",
    "    plt.subplot(3,3,i+1)\n",
    "    num = random.randint(0, len(x_train))\n",
    "    plt.imshow(x_train[num], cmap='gray', interpolation='none')\n",
    "    plt.title(\"Class {}\".format(y_train[num]))\n",
    "    \n",
    "plt.tight_layout()"
   ]
  },
  {
   "cell_type": "code",
   "execution_count": 6,
   "id": "43946c2d",
   "metadata": {},
   "outputs": [],
   "source": [
    "from typing import NamedTuple\n",
    "\n",
    "import kfp\n",
    "from kfp import dsl\n",
    "from kfp.components import func_to_container_op, InputPath, OutputPath\n",
    "\n",
    "from typing import NamedTuple\n",
    "def mnist_func(epochs:int, model_name:str, log_folder:str) -> NamedTuple('Outputs', [('logdir', str)]):\n",
    "    \n",
    "    print('mnist_func:', log_folder)\n",
    "    import tensorflow as tf\n",
    "    import tensorflow_hub as hub\n",
    "    import json\n",
    "    \n",
    "    mnist = tf.keras.datasets.mnist\n",
    "    (x_train,y_train), (x_test, y_test) = mnist.load_data()\n",
    "    x_train, x_test = x_train/255.0, x_test/255.0\n",
    "\n",
    "    def create_model():\n",
    "        return tf.keras.models.Sequential([\n",
    "            tf.keras.layers.Flatten(input_shape = (28,28)),\n",
    "            tf.keras.layers.Dense(512, activation = 'relu'),\n",
    "            tf.keras.layers.Dropout(0.2),\n",
    "            tf.keras.layers.Dense(10, activation = 'softmax')\n",
    "        ])\n",
    "    model = create_model()\n",
    "    model.compile(optimizer='adam',\n",
    "                  loss='sparse_categorical_crossentropy',\n",
    "                  metrics=['accuracy'])\n",
    "    import datetime\n",
    "    import os\n",
    "    \n",
    "    ### add tensorboard logout callback\n",
    "    log_dir = os.path.join(log_folder, datetime.datetime.now().strftime(\"%Y%m%d-%H%M%S\"))\n",
    "    tensorboard_callback = tf.keras.callbacks.TensorBoard(log_dir=log_dir, histogram_freq=1)\n",
    "    ######\n",
    "    \n",
    "    model.fit(x=x_train, \n",
    "              y=y_train, \n",
    "              epochs=epochs, \n",
    "              validation_data=(x_test, y_test), \n",
    "              callbacks=[tensorboard_callback])\n",
    "\n",
    "    # export model file to $log_folder/$model_name/1\n",
    "    tf_model_path  = os.path.join(log_folder, model_name, '1')\n",
    "    tf.keras.models.save_model(model=model, filepath=tf_model_path, overwrite=True, include_optimizer=True, save_format=None, signatures=None, options=None)\n",
    "    \n",
    "    print('At least tensorboard callbacks are correct')\n",
    "    print('logdir:', log_dir)\n",
    "    return ([log_dir])\n",
    "\n",
    "def tensorboard_func(log_dir:str) -> NamedTuple('Outputs', [('mlpipeline_ui_metadata', 'UI_metadata')]):\n",
    "    \n",
    "    print('tensorboard_func:', log_dir)\n",
    "    # run this pipeline first and then apply hack/tensorboard-use-local-volume.yaml\n",
    "    # to switch tensorboard to use local volume\n",
    "    metadata = {\n",
    "      'outputs' : [{\n",
    "        'type': 'tensorboard',\n",
    "        #'source': log_dir,\n",
    "        'source': 'gs://footprintai-kubeflow-workshop/mnist/epoch5',\n",
    "      }]\n",
    "    }\n",
    "    import json\n",
    "    return ([json.dumps(metadata)])\n"
   ]
  },
  {
   "cell_type": "code",
   "execution_count": 7,
   "id": "58d2fc7d",
   "metadata": {},
   "outputs": [],
   "source": [
    "import kfp.dsl as dsl\n",
    "import kfp.components as components\n",
    "\n",
    "@dsl.pipeline(\n",
    "   name='mnist pipeline',\n",
    "   description='A pipeline to train a model on mnist dataset and start a tensorboard.'\n",
    ")\n",
    "def mnist_pipeline(\n",
    "    epochs=5,\n",
    "    model_name=\"model1\",\n",
    "):\n",
    "\n",
    "    log_folder = '/persist-log'\n",
    "    pvc_name = \"mypvc\"\n",
    "    \n",
    "    vop = dsl.VolumeOp(\n",
    "        name=pvc_name,\n",
    "        resource_name=\"newpvc\",\n",
    "        size=\"1Gi\",\n",
    "        modes=dsl.VOLUME_MODE_RWO\n",
    "    )\n",
    "    mnist_op = func_to_container_op(\n",
    "        func=mnist_func,\n",
    "        base_image=\"tensorflow/tensorflow:2.0.0-py3\",\n",
    "    )\n",
    "    tensorboard_op = func_to_container_op(\n",
    "        func=tensorboard_func,\n",
    "        base_image=\"python:3.7-slim\",\n",
    "    )\n",
    "    \n",
    "    mnist_task = mnist_op(epochs, model_name, log_folder).add_pvolumes({\n",
    "        log_folder:vop.volume,\n",
    "    })\n",
    "    tenaorboard_task = tensorboard_op(mnist_task.outputs['logdir']).add_pvolumes({\n",
    "        log_folder:vop.volume,\n",
    "    })\n"
   ]
  },
  {
   "cell_type": "code",
   "execution_count": 8,
   "id": "9e2a0be8",
   "metadata": {},
   "outputs": [
    {
     "name": "stderr",
     "output_type": "stream",
     "text": [
      "/home/jovyan/.local/lib/python3.8/site-packages/kfp/components/_data_passing.py:227: UserWarning: Missing type name was inferred as \"Integer\" based on the value \"5\".\n",
      "  warnings.warn(\n"
     ]
    }
   ],
   "source": [
    "kfp.compiler.Compiler().compile(mnist_pipeline, 'mnist.zip')"
   ]
  },
  {
   "cell_type": "code",
   "execution_count": null,
   "id": "906f42d5",
   "metadata": {},
   "outputs": [],
   "source": []
  }
 ],
 "metadata": {
  "kernelspec": {
   "display_name": "Python 3",
   "language": "python",
   "name": "python3"
  },
  "language_info": {
   "codemirror_mode": {
    "name": "ipython",
    "version": 3
   },
   "file_extension": ".py",
   "mimetype": "text/x-python",
   "name": "python",
   "nbconvert_exporter": "python",
   "pygments_lexer": "ipython3",
   "version": "3.8.10"
  }
 },
 "nbformat": 4,
 "nbformat_minor": 5
}
